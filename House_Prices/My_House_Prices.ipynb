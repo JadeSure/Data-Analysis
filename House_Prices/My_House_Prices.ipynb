{
 "cells": [
  {
   "cell_type": "code",
   "execution_count": 1,
   "metadata": {},
   "outputs": [],
   "source": [
    "#Import packages\n",
    "import pandas as pd\n",
    "import matplotlib.pyplot as plt\n",
    "import seaborn as sns\n",
    "import numpy as np\n",
    "from sklearn.preprocessing import StandardScaler\n",
    "from scipy.stats import norm\n",
    "from scipy import stats\n",
    "from sklearn import linear_model"
   ]
  },
  {
   "cell_type": "markdown",
   "metadata": {},
   "source": [
    "## Data Modeling"
   ]
  },
  {
   "cell_type": "code",
   "execution_count": 7,
   "metadata": {},
   "outputs": [
    {
     "name": "stdout",
     "output_type": "stream",
     "text": [
      "Coefficients: \n",
      " [0.04689731 0.00266795 0.00032148 0.         0.         0.0006022 ]\n"
     ]
    },
    {
     "name": "stderr",
     "output_type": "stream",
     "text": [
      "<ipython-input-7-562e7150cead>:2: SettingWithCopyWarning: \n",
      "A value is trying to be set on a copy of a slice from a DataFrame.\n",
      "Try using .loc[row_indexer,col_indexer] = value instead\n",
      "\n",
      "See the caveats in the documentation: https://pandas.pydata.org/pandas-docs/stable/user_guide/indexing.html#returning-a-view-versus-a-copy\n",
      "  df_train_num['GrLivArea']=np.log(df_train_num['GrLivArea'])\n",
      "<ipython-input-7-562e7150cead>:3: SettingWithCopyWarning: \n",
      "A value is trying to be set on a copy of a slice from a DataFrame.\n",
      "Try using .loc[row_indexer,col_indexer] = value instead\n",
      "\n",
      "See the caveats in the documentation: https://pandas.pydata.org/pandas-docs/stable/user_guide/indexing.html#returning-a-view-versus-a-copy\n",
      "  df_train_num['SalePrice']=np.log(df_train_num['SalePrice'])\n",
      "<ipython-input-7-562e7150cead>:29: SettingWithCopyWarning: \n",
      "A value is trying to be set on a copy of a slice from a DataFrame.\n",
      "Try using .loc[row_indexer,col_indexer] = value instead\n",
      "\n",
      "See the caveats in the documentation: https://pandas.pydata.org/pandas-docs/stable/user_guide/indexing.html#returning-a-view-versus-a-copy\n",
      "  df_test_num['GrLivArea']=np.log(df_test_num['GrLivArea'])\n",
      "<ipython-input-7-562e7150cead>:33: SettingWithCopyWarning: \n",
      "A value is trying to be set on a copy of a slice from a DataFrame.\n",
      "Try using .loc[row_indexer,col_indexer] = value instead\n",
      "\n",
      "See the caveats in the documentation: https://pandas.pydata.org/pandas-docs/stable/user_guide/indexing.html#returning-a-view-versus-a-copy\n",
      "  df_test_num['TotalBsmtSF']=df_test_num['TotalBsmtSF'].fillna(np.mean(df_test_num['TotalBsmtSF']))\n",
      "<ipython-input-7-562e7150cead>:34: SettingWithCopyWarning: \n",
      "A value is trying to be set on a copy of a slice from a DataFrame.\n",
      "Try using .loc[row_indexer,col_indexer] = value instead\n",
      "\n",
      "See the caveats in the documentation: https://pandas.pydata.org/pandas-docs/stable/user_guide/indexing.html#returning-a-view-versus-a-copy\n",
      "  df_test_num['GarageArea']=df_test_num['GarageArea'].fillna(np.mean(df_test_num['GarageArea']))\n"
     ]
    }
   ],
   "source": [
    "#Load the training data\n",
    "df_train=pd.read_csv('train.csv')\n",
    "\n",
    "#Confirmed inputs\n",
    "df_train_num=df_train[['OverallQual', 'YearBuilt', 'TotalBsmtSF', 'GrLivArea','FullBath', 'GarageArea','Id','SalePrice']]\n",
    "#Normalise Area\n",
    "df_train_num['GrLivArea']=np.log(df_train_num['GrLivArea'])\n",
    "df_train_num['SalePrice']=np.log(df_train_num['SalePrice'])\n",
    "\n",
    "#Remove outliers\n",
    "df_train_num = df_train_num[df_train_num['TotalBsmtSF']<3000]\n",
    "df_train_num = df_train_num[df_train_num['GrLivArea']<4500]\n",
    "df_train_num = df_train_num[df_train_num['GarageArea']<1250]\n",
    "\n",
    "#Build the model\n",
    "ls = linear_model.LassoCV()\n",
    "\n",
    "#Split the input and output\n",
    "df_train_num_x=df_train_num.drop(['SalePrice','Id'],axis=1) \n",
    "df_train_num_y=df_train_num['SalePrice']\n",
    "\n",
    "#Train the model\n",
    "ls.fit(df_train_num_x, df_train_num_y)\n",
    "\n",
    "#Check the model coefficients\n",
    "print('Coefficients: \\n', ls.coef_)\n",
    "\n",
    "#Load the test data\n",
    "df_test=pd.read_csv('test.csv')\n",
    "df_test_num=df_test[['OverallQual', 'YearBuilt', 'TotalBsmtSF', 'GrLivArea','FullBath', 'GarageArea','Id']]\n",
    "\n",
    "#IMPORTANT: All the feature engineering & data cleaning steps we have done to the testing variables, we have to do the same for the test dataset!!\n",
    "#Normalise Area\n",
    "df_test_num['GrLivArea']=np.log(df_test_num['GrLivArea'])\n",
    "\n",
    "#Before we can feed the data into our model, we have to check missing values again. Otherwise the code will give you an error.\n",
    "df_test_num.isnull().sum()\n",
    "df_test_num['TotalBsmtSF']=df_test_num['TotalBsmtSF'].fillna(np.mean(df_test_num['TotalBsmtSF']))\n",
    "df_test_num['GarageArea']=df_test_num['GarageArea'].fillna(np.mean(df_test_num['GarageArea']))\n",
    "\n",
    "\n",
    "#Predict the results for test dataset\n",
    "submit= pd.DataFrame()\n",
    "submit['Id'] = df_test_num.Id\n",
    "#select features \n",
    "preds_out = ls.predict(df_test_num[['OverallQual', 'YearBuilt', 'TotalBsmtSF', 'GrLivArea','FullBath', 'GarageArea']])\n",
    "submit['SalePrice'] = np.exp(preds_out)\n",
    "#final submission  \n",
    "submit.to_csv('LassoCV_submission.csv', index=False)"
   ]
  }
 ],
 "metadata": {
  "kernelspec": {
   "display_name": "Python 3",
   "language": "python",
   "name": "python3"
  },
  "language_info": {
   "codemirror_mode": {
    "name": "ipython",
    "version": 3
   },
   "file_extension": ".py",
   "mimetype": "text/x-python",
   "name": "python",
   "nbconvert_exporter": "python",
   "pygments_lexer": "ipython3",
   "version": "3.8.5"
  }
 },
 "nbformat": 4,
 "nbformat_minor": 4
}
