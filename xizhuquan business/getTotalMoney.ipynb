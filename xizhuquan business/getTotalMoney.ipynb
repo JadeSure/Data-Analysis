{
 "cells": [
  {
   "cell_type": "code",
   "execution_count": 1,
   "metadata": {},
   "outputs": [],
   "source": [
    "import xlrd\n",
    "import pandas as pd\n",
    "from pandas import DataFrame\n",
    "pd.set_option('display.max_rows', 1000)\n",
    "import xlrd,xlwt\n",
    "from xlutils.copy import copy\n",
    "\n",
    "import openpyxl\n",
    "\n",
    "import os"
   ]
  },
  {
   "cell_type": "code",
   "execution_count": 98,
   "metadata": {},
   "outputs": [],
   "source": [
    "# a name set to recoder all names which are used to handle repeated name\n",
    "NAME_SET = set()\n",
    "def load_data(file_name):\n",
    "    names = ['total_money']\n",
    "    \n",
    "    # recorder current sheet names\n",
    "    temp_set = set()\n",
    "    \n",
    "    # handle the first time\n",
    "    status = True\n",
    "    \n",
    "    wb = xlrd.open_workbook(file_name)\n",
    "    \n",
    "    # obtain all the sheet in the workbook\n",
    "    sheets = wb.sheet_names()\n",
    "#     print('before processing', sheets)\n",
    "    \n",
    "    global NAME_SET\n",
    "    # first time, there is no value in the name set\n",
    "    if not NAME_SET:\n",
    "        \n",
    "        NAME_SET.update(set(sheets))\n",
    "        status = False\n",
    "    \n",
    "    if status == True:\n",
    "        # get repeated values in the name that wont be processed in the next iteration\n",
    "        temp_values = NAME_SET.intersection(sheets)\n",
    "        if temp_values:\n",
    "            # if it has repeated value, remove all the repaeated value in the new name set\n",
    "            [sheets.remove(i) for i in temp_values]\n",
    "            \n",
    "        NAME_SET = NAME_SET.union(sheets)\n",
    "    \n",
    "#     print('after processing', sheets)\n",
    "    \n",
    "    # for the first time, it needs to remove 'data base'\n",
    "    if status == False:\n",
    "        sheets.pop()\n",
    "    \n",
    "    # iterator sheets without the total sheet\n",
    "    df_all = DataFrame()\n",
    "    \n",
    "    # recorder all res in each sheet\n",
    "    res = []\n",
    "    for i in sheets:\n",
    "    # skiprows=2 omit tow\n",
    "        df = pd.read_excel(file_name, names = names, sheet_name=i, skiprows=2, \n",
    "                       skipfooter = 2, usecols= [5])\n",
    "#         print(df.loc[df.shape[0]-1]['total_money'])\n",
    "        # recorder once res in one sheet\n",
    "        temp_res = df.loc[df.shape[0]-1]['total_money']\n",
    "        \n",
    "        res.append(temp_res)\n",
    "        \n",
    "    print('在这个表内的所有金额累加和:',sum(res))\n",
    "    return sum(res)"
   ]
  },
  {
   "cell_type": "code",
   "execution_count": 99,
   "metadata": {},
   "outputs": [
    {
     "name": "stdout",
     "output_type": "stream",
     "text": [
      "我正在处理 文件名： 群力远大.xlsx\n",
      "在这个表内的所有金额累加和: 7866.0\n",
      "所有这些表的全部金额: 7866.0\n",
      "处理完成\n"
     ]
    }
   ],
   "source": [
    "if __name__ == '__main__':\n",
    "\n",
    "    dir = \"/Users/user/processing_excel/frequency\"  \n",
    "\n",
    "  \n",
    "    filename_excel = []\n",
    "\n",
    "    for root, dirs, files in os.walk(dir):\n",
    "        for file in files:\n",
    "        \n",
    "            if not file.endswith('.xlsx'):\n",
    "                continue\n",
    "            # print(os.path.join(root,file))\n",
    "            filename_excel.append(os.path.join(root,file))\n",
    "    \n",
    "#     print(filename_excel)\n",
    "    total_money = []\n",
    "    for file in filename_excel:\n",
    "        print(\"我正在处理 文件名：\", file.split('\\\\')[-1])\n",
    "        total_money.append(load_data(file))\n",
    "#     print(total_money)\n",
    "    print('所有这些表的全部金额:',sum(total_money))\n",
    "    print(\"处理完成\")"
   ]
  }
 ],
 "metadata": {
  "kernelspec": {
   "display_name": "Python 3",
   "language": "python",
   "name": "python3"
  },
  "language_info": {
   "codemirror_mode": {
    "name": "ipython",
    "version": 3
   },
   "file_extension": ".py",
   "mimetype": "text/x-python",
   "name": "python",
   "nbconvert_exporter": "python",
   "pygments_lexer": "ipython3",
   "version": "3.7.6"
  }
 },
 "nbformat": 4,
 "nbformat_minor": 4
}
